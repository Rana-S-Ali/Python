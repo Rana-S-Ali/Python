{
  "cells": [
    {
      "cell_type": "markdown",
      "metadata": {
        "id": "view-in-github",
        "colab_type": "text"
      },
      "source": [
        "<a href=\"https://colab.research.google.com/github/Rana-S-Ali/Python/blob/main/Python-pivot_charts.ipynb\" target=\"_parent\"><img src=\"https://colab.research.google.com/assets/colab-badge.svg\" alt=\"Open In Colab\"/></a>"
      ]
    },
    {
      "cell_type": "markdown",
      "metadata": {
        "id": "00e98522-25c1-463e-8cac-77e37152e2f2"
      },
      "source": [
        "<p style=\"text-align:center\">\n",
        "    <a href=\"https://skills.network\" target=\"_blank\">\n",
        "    <img src=\"https://cf-courses-data.s3.us.cloud-object-storage.appdomain.cloud/assets/logos/SN_web_lightmode.png\" width=\"200\" alt=\"Skills Network Logo\"  />\n",
        "    </a>\n",
        "</p>\n"
      ]
    },
    {
      "cell_type": "markdown",
      "metadata": {
        "id": "68f946b7-589a-41fb-8c45-2a88e9e22c0d"
      },
      "source": [
        "# **Hands-on Lab: Pivot Charts**\n"
      ]
    },
    {
      "cell_type": "markdown",
      "metadata": {
        "id": "d6100fe0-2e86-4f2e-8255-223ae0c0d313"
      },
      "source": [
        "Estimated time needed: **30** minutes\n"
      ]
    },
    {
      "cell_type": "markdown",
      "metadata": {
        "id": "9b05a72c-3ace-4c2e-b0af-27e8b638fdd4"
      },
      "source": [
        "## Introduction\n",
        "In this lab, you will learn how to use pivot charts for data analysis. Pivot charts play a crucial role in data analytics by enabling quick and intuitive exploration of multidimensional datasets. They allow analysts to summarize and visualize complex data relationships across multiple variables, facilitating insights that might be obscured in raw data tables. By dynamically aggregating and pivoting data, these charts provide a comprehensive view of trends, patterns, and correlations, empowering decision-makers to identify key factors influencing outcomes. Pivot charts enhance data-driven decision-making processes by simplifying complex data into actionable visual representations, thereby accelerating understanding and fostering informed strategies in diverse fields such as business analytics, market research, and scientific studies.\n"
      ]
    },
    {
      "cell_type": "markdown",
      "metadata": {
        "id": "98f822ff-b4a1-4b31-a6ec-1027da8759b7"
      },
      "source": [
        "## Objectives\n",
        "\n",
        "After completing this lab you will be able to:\n",
        "\n",
        " - Use Pivot charts for data analytics\n",
        " - Use different types of charts for different scenarios\n",
        " - Make deeper inferences from data based on the pivoted representations\n"
      ]
    },
    {
      "cell_type": "markdown",
      "metadata": {
        "id": "48ba1dcf-5f7e-4365-82b4-d31bd8fb01cf"
      },
      "source": [
        "----\n"
      ]
    },
    {
      "cell_type": "markdown",
      "metadata": {
        "id": "be93e397-2d60-4fa6-ba46-23bfdc87a918"
      },
      "source": [
        "## Setup\n"
      ]
    },
    {
      "cell_type": "markdown",
      "metadata": {
        "id": "b993fb32-5629-427b-97dd-41fcd2e02dbd"
      },
      "source": [
        "For this lab, we will be using the following libraries:\n",
        "\n",
        "*   [`pandas`](https://pandas.pydata.org/?utm_medium=Exinfluencer&utm_source=Exinfluencer&utm_content=000026UJ&utm_term=10006555&utm_id=NA-SkillsNetwork-Channel-SkillsNetworkCoursesIBMML0187ENSkillsNetwork31430127-2021-01-01) for managing the data.\n",
        "*   [`seaborn`](https://seaborn.pydata.org/?utm_medium=Exinfluencer&utm_source=Exinfluencer&utm_content=000026UJ&utm_term=10006555&utm_id=NA-SkillsNetwork-Channel-SkillsNetworkCoursesIBMML0187ENSkillsNetwork31430127-2021-01-01) for visualizing the data.\n",
        "*   [`matplotlib`](https://matplotlib.org/?utm_medium=Exinfluencer&utm_source=Exinfluencer&utm_content=000026UJ&utm_term=10006555&utm_id=NA-SkillsNetwork-Channel-SkillsNetworkCoursesIBMML0187ENSkillsNetwork31430127-2021-01-01) for additional plotting tools.\n",
        "*   [`sqlite3`](https://docs.python.org/3/library/sqlite3.html) for accessing the database\n"
      ]
    },
    {
      "cell_type": "markdown",
      "metadata": {
        "id": "1ac4c125-a312-4322-990f-29ccf25bfec4"
      },
      "source": [
        "### Installing Required Libraries\n",
        "\n",
        "Execute the following code to install the required libraries on the interface\n"
      ]
    },
    {
      "cell_type": "code",
      "metadata": {
        "id": "3e2cdf01-5249-4d54-b758-ec0e490389e8"
      },
      "outputs": [],
      "source": [
        "# %pip install pandas seaborn"
      ],
      "execution_count": 1
    },
    {
      "cell_type": "markdown",
      "metadata": {
        "id": "d095a404-67a6-44f7-976b-f0e5565f22da"
      },
      "source": [
        "### Importing Required Libraries\n",
        "\n",
        "All libraries required for the codes below should be imported here.\n"
      ]
    },
    {
      "cell_type": "code",
      "metadata": {
        "id": "11fec6d3-89ad-416e-be34-4a30bbeec27c"
      },
      "outputs": [],
      "source": [
        "import pandas as pd\n",
        "import sqlite3\n",
        "import seaborn as sns\n",
        "import matplotlib.pyplot as plt"
      ],
      "execution_count": 2
    },
    {
      "cell_type": "markdown",
      "metadata": {
        "id": "6d3814d3-6a05-4859-9865-71df88175759"
      },
      "source": [
        "### Download the database\n",
        "Download the databaset from the cloud server by executing the code statement below.\n"
      ]
    },
    {
      "cell_type": "code",
      "metadata": {
        "id": "9ac9ce41-b298-48ce-9016-ed09eb1d0fc4",
        "colab": {
          "base_uri": "https://localhost:8080/"
        },
        "outputId": "72e1cf9f-c4ae-4bda-d62d-ddb1e9088201"
      },
      "outputs": [
        {
          "output_type": "stream",
          "name": "stdout",
          "text": [
            "--2024-08-20 23:45:08--  https://cf-courses-data.s3.us.cloud-object-storage.appdomain.cloud/IBM-DA0321EN-SkillsNetwork/LargeData/m4_survey_data.sqlite\n",
            "Resolving cf-courses-data.s3.us.cloud-object-storage.appdomain.cloud (cf-courses-data.s3.us.cloud-object-storage.appdomain.cloud)... 169.63.118.104\n",
            "Connecting to cf-courses-data.s3.us.cloud-object-storage.appdomain.cloud (cf-courses-data.s3.us.cloud-object-storage.appdomain.cloud)|169.63.118.104|:443... connected.\n",
            "HTTP request sent, awaiting response... 200 OK\n",
            "Length: 36679680 (35M) [application/octet-stream]\n",
            "Saving to: ‘m4_survey_data.sqlite’\n",
            "\n",
            "m4_survey_data.sqli 100%[===================>]  34.98M  39.2MB/s    in 0.9s    \n",
            "\n",
            "2024-08-20 23:45:09 (39.2 MB/s) - ‘m4_survey_data.sqlite’ saved [36679680/36679680]\n",
            "\n"
          ]
        }
      ],
      "source": [
        "!wget https://cf-courses-data.s3.us.cloud-object-storage.appdomain.cloud/IBM-DA0321EN-SkillsNetwork/LargeData/m4_survey_data.sqlite"
      ],
      "execution_count": 3
    },
    {
      "cell_type": "markdown",
      "metadata": {
        "id": "80a70e57-3c5c-4c10-b79c-0afbe11bd2a5"
      },
      "source": [
        "Load the database and read the data table as a Pandas dataframe for further usage, by executing the following code.\n"
      ]
    },
    {
      "cell_type": "code",
      "metadata": {
        "id": "2de80496-f154-49f9-a39d-2c184bffa2d5"
      },
      "outputs": [],
      "source": [
        "conn = sqlite3.connect(\"m4_survey_data.sqlite\") # open a database connection\n",
        "QUERY = \"\"\"SELECT * FROM master\"\"\"\n",
        "df = pd.read_sql(QUERY,conn)"
      ],
      "execution_count": 4
    },
    {
      "cell_type": "code",
      "source": [
        "# df.head(20)\n",
        "df['JobSat'].unique()"
      ],
      "metadata": {
        "id": "q2QqYUNpvA0v",
        "colab": {
          "base_uri": "https://localhost:8080/"
        },
        "outputId": "7084abaa-008e-4ae7-ec8d-ae09e0b36672"
      },
      "execution_count": 5,
      "outputs": [
        {
          "output_type": "execute_result",
          "data": {
            "text/plain": [
              "array(['Slightly satisfied', 'Very satisfied',\n",
              "       'Neither satisfied nor dissatisfied', 'Slightly dissatisfied',\n",
              "       'Very dissatisfied', None], dtype=object)"
            ]
          },
          "metadata": {},
          "execution_count": 5
        }
      ]
    },
    {
      "cell_type": "code",
      "source": [
        "df['CareerSat'].unique()"
      ],
      "metadata": {
        "id": "P_3jBGYHvWJC",
        "colab": {
          "base_uri": "https://localhost:8080/"
        },
        "outputId": "0f2ee47e-df27-44d3-8d39-643a6c721d78"
      },
      "execution_count": 6,
      "outputs": [
        {
          "output_type": "execute_result",
          "data": {
            "text/plain": [
              "array(['Very satisfied', 'Slightly satisfied', 'Very dissatisfied',\n",
              "       'Slightly dissatisfied', 'Neither satisfied nor dissatisfied'],\n",
              "      dtype=object)"
            ]
          },
          "metadata": {},
          "execution_count": 6
        }
      ]
    },
    {
      "cell_type": "code",
      "source": [
        "plt.figure(figsize=(10, 16))\n",
        "sns.barplot(x='JobSat', y='Respondent', data=df)\n",
        "# draw line plot for CareerSat and JobSat on x-axis vs Respondent\n",
        "# plt.line"
      ],
      "metadata": {
        "id": "Lyv5y7eqviL9",
        "colab": {
          "base_uri": "https://localhost:8080/",
          "height": 1000
        },
        "outputId": "572b797e-a906-4e9d-938a-2c3696a2d044"
      },
      "execution_count": 7,
      "outputs": [
        {
          "output_type": "execute_result",
          "data": {
            "text/plain": [
              "<Axes: xlabel='JobSat', ylabel='Respondent'>"
            ]
          },
          "metadata": {},
          "execution_count": 7
        },
        {
          "output_type": "display_data",
          "data": {
            "text/plain": [
              "<Figure size 1000x1600 with 1 Axes>"
            ],
            "image/png": "[encoded data removed]"
          },
          "metadata": {}
        }
      ]
    },
    {
      "cell_type": "markdown",
      "metadata": {
        "id": "9316b0a9-4178-4b93-b969-51d8d2304f24"
      },
      "source": [
        "### Scenario 1: Distribution of Respondents by Career Satisfaction and Job Satisfaction\n"
      ]
    },
    {
      "cell_type": "markdown",
      "metadata": {
        "id": "affdd392-7418-4a48-bb87-cebc45977c81"
      },
      "source": [
        "In the first task, you can plot a distribution of the distribution of the respondents in terms of their Career Satisfaction and Job satisfaction. For this, we need to create a pivot with one of the axis representing unique values of `CareerSat` field, another axis representing `JobSat` values, and the data to be shown under each map to be set as the count of respondents. To achieve this, you can execute the code block shared below.\n"
      ]
    },
    {
      "cell_type": "code",
      "source": [
        "pivot_table = pd.pivot_table(df, index='CareerSat', columns='JobSat', values='Respondent', aggfunc='count', fill_value=0)\n",
        "print(pivot_table)"
      ],
      "metadata": {
        "id": "gkK3ZRDFx5tn",
        "colab": {
          "base_uri": "https://localhost:8080/"
        },
        "outputId": "0b07ced5-64fd-4a21-a3c7-fd96f012f021"
      },
      "execution_count": 8,
      "outputs": [
        {
          "output_type": "stream",
          "name": "stdout",
          "text": [
            "JobSat                              Neither satisfied nor dissatisfied  \\\n",
            "CareerSat                                                                \n",
            "Neither satisfied nor dissatisfied                                 347   \n",
            "Slightly dissatisfied                                              126   \n",
            "Slightly satisfied                                                 567   \n",
            "Very dissatisfied                                                   36   \n",
            "Very satisfied                                                     209   \n",
            "\n",
            "JobSat                              Slightly dissatisfied  Slightly satisfied  \\\n",
            "CareerSat                                                                       \n",
            "Neither satisfied nor dissatisfied                    270                 209   \n",
            "Slightly dissatisfied                                 595                 149   \n",
            "Slightly satisfied                                    573                2188   \n",
            "Very dissatisfied                                     122                  45   \n",
            "Very satisfied                                        263                1386   \n",
            "\n",
            "JobSat                              Very dissatisfied  Very satisfied  \n",
            "CareerSat                                                              \n",
            "Neither satisfied nor dissatisfied                 68              40  \n",
            "Slightly dissatisfied                             213              39  \n",
            "Slightly satisfied                                141             591  \n",
            "Very dissatisfied                                 271              30  \n",
            "Very satisfied                                     80            2839  \n"
          ]
        }
      ]
    },
    {
      "cell_type": "code",
      "metadata": {
        "colab": {
          "base_uri": "https://localhost:8080/",
          "height": 772
        },
        "id": "2920eaa5-50d9-4c9e-8bdd-748f3f403003",
        "outputId": "86549955-3cee-4471-ec9d-9a0477bf210d"
      },
      "outputs": [
        {
          "output_type": "display_data",
          "data": {
            "text/plain": [
              "<Figure size 1000x600 with 2 Axes>"
            ],
            "image/png": "[encoded data removed]"
          },
          "metadata": {}
        }
      ],
      "source": [
        "pivot_table = pd.pivot_table(df, index='CareerSat', columns='JobSat', values='Respondent', aggfunc='count', fill_value=0)\n",
        "\n",
        "# Plotting\n",
        "plt.figure(figsize=(10, 6))\n",
        "sns.heatmap(pivot_table, annot=True, cmap='Blues', fmt='g')\n",
        "plt.title('Career Satisfaction vs. Job Satisfaction')\n",
        "plt.xlabel('Job Satisfaction')\n",
        "plt.ylabel('Career Satisfaction')\n",
        "plt.show()"
      ],
      "execution_count": 9
    },
    {
      "cell_type": "markdown",
      "metadata": {
        "id": "8490f3f3-7a01-4b12-b42b-e5dc157214f4"
      },
      "source": [
        "#### Inference:\n",
        "Using a heatmap to visualize the relationship between career satisfaction and job satisfaction provides a clear overview of satisfaction levels across different dimensions. We can see that people 'Very Satisfied' with their current jobs are also 'Very Satisfied' with their careers.\n"
      ]
    },
    {
      "cell_type": "markdown",
      "metadata": {
        "id": "b2998ee3-74a7-4b33-abd3-e7fbceb502e7"
      },
      "source": [
        "### Scenario 2: Comparison of Open Source Adoption Across Operating Systems\n",
        "In this scenario, you can visualize the adoption of Open Sourse systems across different operating systems by the respondents. To create this pivot chart, the `index` parameter, representing the x-axis, can be set as `OpSys`and the `columns` parameter can be set as `OpenSource`. The `values` parameter will be set as `Respondent` with aggregation function as `count`. This graph should be plotted as a grouped bar graph.\n",
        "\n",
        "As a practice exercise, try to complete the code block below to generate the pivot chart yourself. Upon creation of the pivot chart, you can draw the inferences based on the visible distribution.\n"
      ]
    },
    {
      "cell_type": "code",
      "source": [
        "df.columns"
      ],
      "metadata": {
        "colab": {
          "base_uri": "https://localhost:8080/"
        },
        "id": "OPuzQKKR-MOj",
        "outputId": "57073332-16e0-4d1b-fb6e-e506c575bf09"
      },
      "execution_count": 10,
      "outputs": [
        {
          "output_type": "execute_result",
          "data": {
            "text/plain": [
              "Index(['index', 'Respondent', 'MainBranch', 'Hobbyist', 'OpenSourcer',\n",
              "       'OpenSource', 'Employment', 'Country', 'Student', 'EdLevel',\n",
              "       'UndergradMajor', 'OrgSize', 'YearsCode', 'Age1stCode', 'YearsCodePro',\n",
              "       'CareerSat', 'JobSat', 'MgrIdiot', 'MgrMoney', 'MgrWant', 'JobSeek',\n",
              "       'LastHireDate', 'FizzBuzz', 'ResumeUpdate', 'CurrencySymbol',\n",
              "       'CurrencyDesc', 'CompTotal', 'CompFreq', 'ConvertedComp', 'WorkWeekHrs',\n",
              "       'WorkRemote', 'WorkLoc', 'ImpSyn', 'CodeRev', 'CodeRevHrs', 'UnitTests',\n",
              "       'PurchaseHow', 'PurchaseWhat', 'OpSys', 'BlockchainOrg', 'BlockchainIs',\n",
              "       'BetterLife', 'ITperson', 'OffOn', 'SocialMedia', 'Extraversion',\n",
              "       'ScreenName', 'SOVisit1st', 'SOVisitFreq', 'SOFindAnswer',\n",
              "       'SOTimeSaved', 'SOHowMuchTime', 'SOAccount', 'SOPartFreq', 'SOJobs',\n",
              "       'EntTeams', 'SOComm', 'WelcomeChange', 'Age', 'Trans', 'Dependents',\n",
              "       'SurveyLength', 'SurveyEase'],\n",
              "      dtype='object')"
            ]
          },
          "metadata": {},
          "execution_count": 10
        }
      ]
    },
    {
      "cell_type": "code",
      "source": [
        "df[['Respondent','OpSys','OpenSource']].head()"
      ],
      "metadata": {
        "colab": {
          "base_uri": "https://localhost:8080/",
          "height": 206
        },
        "id": "E-3X3MYW9yeR",
        "outputId": "d43ea803-12d1-4341-8a2a-09b4856b6fd9"
      },
      "execution_count": 11,
      "outputs": [
        {
          "output_type": "execute_result",
          "data": {
            "text/plain": [
              "   Respondent        OpSys                                         OpenSource\n",
              "0           4      Windows  The quality of OSS and closed source software ...\n",
              "1           9        MacOS  The quality of OSS and closed source software ...\n",
              "2          13      Windows  OSS is, on average, of HIGHER quality than pro...\n",
              "3          16      Windows  The quality of OSS and closed source software ...\n",
              "4          17  Linux-based  The quality of OSS and closed source software ..."
            ],
            "text/html": [
              "\n",
              "  <div id=\"df-d5c1833b-6ff8-4ddd-a87d-be08868e7333\" class=\"colab-df-container\">\n",
              "    <div>\n",
              "<style scoped>\n",
              "    .dataframe tbody tr th:only-of-type {\n",
              "        vertical-align: middle;\n",
              "    }\n",
              "\n",
              "    .dataframe tbody tr th {\n",
              "        vertical-align: top;\n",
              "    }\n",
              "\n",
              "    .dataframe thead th {\n",
              "        text-align: right;\n",
              "    }\n",
              "</style>\n",
              "<table border=\"1\" class=\"dataframe\">\n",
              "  <thead>\n",
              "    <tr style=\"text-align: right;\">\n",
              "      <th></th>\n",
              "      <th>Respondent</th>\n",
              "      <th>OpSys</th>\n",
              "      <th>OpenSource</th>\n",
              "    </tr>\n",
              "  </thead>\n",
              "  <tbody>\n",
              "    <tr>\n",
              "      <th>0</th>\n",
              "      <td>4</td>\n",
              "      <td>Windows</td>\n",
              "      <td>The quality of OSS and closed source software ...</td>\n",
              "    </tr>\n",
              "    <tr>\n",
              "      <th>1</th>\n",
              "      <td>9</td>\n",
              "      <td>MacOS</td>\n",
              "      <td>The quality of OSS and closed source software ...</td>\n",
              "    </tr>\n",
              "    <tr>\n",
              "      <th>2</th>\n",
              "      <td>13</td>\n",
              "      <td>Windows</td>\n",
              "      <td>OSS is, on average, of HIGHER quality than pro...</td>\n",
              "    </tr>\n",
              "    <tr>\n",
              "      <th>3</th>\n",
              "      <td>16</td>\n",
              "      <td>Windows</td>\n",
              "      <td>The quality of OSS and closed source software ...</td>\n",
              "    </tr>\n",
              "    <tr>\n",
              "      <th>4</th>\n",
              "      <td>17</td>\n",
              "      <td>Linux-based</td>\n",
              "      <td>The quality of OSS and closed source software ...</td>\n",
              "    </tr>\n",
              "  </tbody>\n",
              "</table>\n",
              "</div>\n",
              "    <div class=\"colab-df-buttons\">\n",
              "\n",
              "  <div class=\"colab-df-container\">\n",
              "    <button class=\"colab-df-convert\" onclick=\"convertToInteractive('df-d5c1833b-6ff8-4ddd-a87d-be08868e7333')\"\n",
              "            title=\"Convert this dataframe to an interactive table.\"\n",
              "            style=\"display:none;\">\n",
              "\n",
              "  <svg xmlns=\"http://www.w3.org/2000/svg\" height=\"24px\" viewBox=\"0 -960 960 960\">\n",
              "    <path d=\"M120-120v-720h720v720H120Zm60-500h600v-160H180v160Zm220 220h160v-160H400v160Zm0 220h160v-160H400v160ZM180-400h160v-160H180v160Zm440 0h160v-160H620v160ZM180-180h160v-160H180v160Zm440 0h160v-160H620v160Z\"/>\n",
              "  </svg>\n",
              "    </button>\n",
              "\n",
              "  <style>\n",
              "    .colab-df-container {\n",
              "      display:flex;\n",
              "      gap: 12px;\n",
              "    }\n",
              "\n",
              "    .colab-df-convert {\n",
              "      background-color: #E8F0FE;\n",
              "      border: none;\n",
              "      border-radius: 50%;\n",
              "      cursor: pointer;\n",
              "      display: none;\n",
              "      fill: #1967D2;\n",
              "      height: 32px;\n",
              "      padding: 0 0 0 0;\n",
              "      width: 32px;\n",
              "    }\n",
              "\n",
              "    .colab-df-convert:hover {\n",
              "      background-color: #E2EBFA;\n",
              "      box-shadow: 0px 1px 2px rgba(60, 64, 67, 0.3), 0px 1px 3px 1px rgba(60, 64, 67, 0.15);\n",
              "      fill: #174EA6;\n",
              "    }\n",
              "\n",
              "    .colab-df-buttons div {\n",
              "      margin-bottom: 4px;\n",
              "    }\n",
              "\n",
              "    [theme=dark] .colab-df-convert {\n",
              "      background-color: #3B4455;\n",
              "      fill: #D2E3FC;\n",
              "    }\n",
              "\n",
              "    [theme=dark] .colab-df-convert:hover {\n",
              "      background-color: #434B5C;\n",
              "      box-shadow: 0px 1px 3px 1px rgba(0, 0, 0, 0.15);\n",
              "      filter: drop-shadow(0px 1px 2px rgba(0, 0, 0, 0.3));\n",
              "      fill: #FFFFFF;\n",
              "    }\n",
              "  </style>\n",
              "\n",
              "    <script>\n",
              "      const buttonEl =\n",
              "        document.querySelector('#df-d5c1833b-6ff8-4ddd-a87d-be08868e7333 button.colab-df-convert');\n",
              "      buttonEl.style.display =\n",
              "        google.colab.kernel.accessAllowed ? 'block' : 'none';\n",
              "\n",
              "      async function convertToInteractive(key) {\n",
              "        const element = document.querySelector('#df-d5c1833b-6ff8-4ddd-a87d-be08868e7333');\n",
              "        const dataTable =\n",
              "          await google.colab.kernel.invokeFunction('convertToInteractive',\n",
              "                                                    [key], {});\n",
              "        if (!dataTable) return;\n",
              "\n",
              "        const docLinkHtml = 'Like what you see? Visit the ' +\n",
              "          '<a target=\"_blank\" href=https://colab.research.google.com/notebooks/data_table.ipynb>data table notebook</a>'\n",
              "          + ' to learn more about interactive tables.';\n",
              "        element.innerHTML = '';\n",
              "        dataTable['output_type'] = 'display_data';\n",
              "        await google.colab.output.renderOutput(dataTable, element);\n",
              "        const docLink = document.createElement('div');\n",
              "        docLink.innerHTML = docLinkHtml;\n",
              "        element.appendChild(docLink);\n",
              "      }\n",
              "    </script>\n",
              "  </div>\n",
              "\n",
              "\n",
              "<div id=\"df-e0656eac-d07d-4d8b-b51c-97755240c1d8\">\n",
              "  <button class=\"colab-df-quickchart\" onclick=\"quickchart('df-e0656eac-d07d-4d8b-b51c-97755240c1d8')\"\n",
              "            title=\"Suggest charts\"\n",
              "            style=\"display:none;\">\n",
              "\n",
              "<svg xmlns=\"http://www.w3.org/2000/svg\" height=\"24px\"viewBox=\"0 0 24 24\"\n",
              "     width=\"24px\">\n",
              "    <g>\n",
              "        <path d=\"M19 3H5c-1.1 0-2 .9-2 2v14c0 1.1.9 2 2 2h14c1.1 0 2-.9 2-2V5c0-1.1-.9-2-2-2zM9 17H7v-7h2v7zm4 0h-2V7h2v10zm4 0h-2v-4h2v4z\"/>\n",
              "    </g>\n",
              "</svg>\n",
              "  </button>\n",
              "\n",
              "<style>\n",
              "  .colab-df-quickchart {\n",
              "      --bg-color: #E8F0FE;\n",
              "      --fill-color: #1967D2;\n",
              "      --hover-bg-color: #E2EBFA;\n",
              "      --hover-fill-color: #174EA6;\n",
              "      --disabled-fill-color: #AAA;\n",
              "      --disabled-bg-color: #DDD;\n",
              "  }\n",
              "\n",
              "  [theme=dark] .colab-df-quickchart {\n",
              "      --bg-color: #3B4455;\n",
              "      --fill-color: #D2E3FC;\n",
              "      --hover-bg-color: #434B5C;\n",
              "      --hover-fill-color: #FFFFFF;\n",
              "      --disabled-bg-color: #3B4455;\n",
              "      --disabled-fill-color: #666;\n",
              "  }\n",
              "\n",
              "  .colab-df-quickchart {\n",
              "    background-color: var(--bg-color);\n",
              "    border: none;\n",
              "    border-radius: 50%;\n",
              "    cursor: pointer;\n",
              "    display: none;\n",
              "    fill: var(--fill-color);\n",
              "    height: 32px;\n",
              "    padding: 0;\n",
              "    width: 32px;\n",
              "  }\n",
              "\n",
              "  .colab-df-quickchart:hover {\n",
              "    background-color: var(--hover-bg-color);\n",
              "    box-shadow: 0 1px 2px rgba(60, 64, 67, 0.3), 0 1px 3px 1px rgba(60, 64, 67, 0.15);\n",
              "    fill: var(--button-hover-fill-color);\n",
              "  }\n",
              "\n",
              "  .colab-df-quickchart-complete:disabled,\n",
              "  .colab-df-quickchart-complete:disabled:hover {\n",
              "    background-color: var(--disabled-bg-color);\n",
              "    fill: var(--disabled-fill-color);\n",
              "    box-shadow: none;\n",
              "  }\n",
              "\n",
              "  .colab-df-spinner {\n",
              "    border: 2px solid var(--fill-color);\n",
              "    border-color: transparent;\n",
              "    border-bottom-color: var(--fill-color);\n",
              "    animation:\n",
              "      spin 1s steps(1) infinite;\n",
              "  }\n",
              "\n",
              "  @keyframes spin {\n",
              "    0% {\n",
              "      border-color: transparent;\n",
              "      border-bottom-color: var(--fill-color);\n",
              "      border-left-color: var(--fill-color);\n",
              "    }\n",
              "    20% {\n",
              "      border-color: transparent;\n",
              "      border-left-color: var(--fill-color);\n",
              "      border-top-color: var(--fill-color);\n",
              "    }\n",
              "    30% {\n",
              "      border-color: transparent;\n",
              "      border-left-color: var(--fill-color);\n",
              "      border-top-color: var(--fill-color);\n",
              "      border-right-color: var(--fill-color);\n",
              "    }\n",
              "    40% {\n",
              "      border-color: transparent;\n",
              "      border-right-color: var(--fill-color);\n",
              "      border-top-color: var(--fill-color);\n",
              "    }\n",
              "    60% {\n",
              "      border-color: transparent;\n",
              "      border-right-color: var(--fill-color);\n",
              "    }\n",
              "    80% {\n",
              "      border-color: transparent;\n",
              "      border-right-color: var(--fill-color);\n",
              "      border-bottom-color: var(--fill-color);\n",
              "    }\n",
              "    90% {\n",
              "      border-color: transparent;\n",
              "      border-bottom-color: var(--fill-color);\n",
              "    }\n",
              "  }\n",
              "</style>\n",
              "\n",
              "  <script>\n",
              "    async function quickchart(key) {\n",
              "      const quickchartButtonEl =\n",
              "        document.querySelector('#' + key + ' button');\n",
              "      quickchartButtonEl.disabled = true;  // To prevent multiple clicks.\n",
              "      quickchartButtonEl.classList.add('colab-df-spinner');\n",
              "      try {\n",
              "        const charts = await google.colab.kernel.invokeFunction(\n",
              "            'suggestCharts', [key], {});\n",
              "      } catch (error) {\n",
              "        console.error('Error during call to suggestCharts:', error);\n",
              "      }\n",
              "      quickchartButtonEl.classList.remove('colab-df-spinner');\n",
              "      quickchartButtonEl.classList.add('colab-df-quickchart-complete');\n",
              "    }\n",
              "    (() => {\n",
              "      let quickchartButtonEl =\n",
              "        document.querySelector('#df-e0656eac-d07d-4d8b-b51c-97755240c1d8 button');\n",
              "      quickchartButtonEl.style.display =\n",
              "        google.colab.kernel.accessAllowed ? 'block' : 'none';\n",
              "    })();\n",
              "  </script>\n",
              "</div>\n",
              "\n",
              "    </div>\n",
              "  </div>\n"
            ],
            "application/vnd.google.colaboratory.intrinsic+json": {
              "type": "dataframe",
              "summary": "{\n  \"name\": \"df[['Respondent','OpSys','OpenSource']]\",\n  \"rows\": 5,\n  \"fields\": [\n    {\n      \"column\": \"Respondent\",\n      \"properties\": {\n        \"dtype\": \"number\",\n        \"std\": 5,\n        \"min\": 4,\n        \"max\": 17,\n        \"num_unique_values\": 5,\n        \"samples\": [\n          9,\n          17,\n          13\n        ],\n        \"semantic_type\": \"\",\n        \"description\": \"\"\n      }\n    },\n    {\n      \"column\": \"OpSys\",\n      \"properties\": {\n        \"dtype\": \"string\",\n        \"num_unique_values\": 3,\n        \"samples\": [\n          \"Windows\",\n          \"MacOS\",\n          \"Linux-based\"\n        ],\n        \"semantic_type\": \"\",\n        \"description\": \"\"\n      }\n    },\n    {\n      \"column\": \"OpenSource\",\n      \"properties\": {\n        \"dtype\": \"category\",\n        \"num_unique_values\": 2,\n        \"samples\": [\n          \"OSS is, on average, of HIGHER quality than proprietary / closed source software\",\n          \"The quality of OSS and closed source software is about the same\"\n        ],\n        \"semantic_type\": \"\",\n        \"description\": \"\"\n      }\n    }\n  ]\n}"
            }
          },
          "metadata": {},
          "execution_count": 11
        }
      ]
    },
    {
      "cell_type": "code",
      "metadata": {
        "id": "006854ee-6825-42ea-bc91-6bddf51b60e8",
        "colab": {
          "base_uri": "https://localhost:8080/",
          "height": 408
        },
        "outputId": "6080ca49-83d8-4200-af9b-50968cdf02af"
      },
      "outputs": [
        {
          "output_type": "display_data",
          "data": {
            "text/plain": [
              "<Figure size 1000x600 with 0 Axes>"
            ]
          },
          "metadata": {}
        },
        {
          "output_type": "display_data",
          "data": {
            "text/plain": [
              "<Figure size 640x480 with 1 Axes>"
            ],
            "image/png": "[encoded data removed]"
          },
          "metadata": {}
        }
      ],
      "source": [
        "\n",
        "pivot_table = pd.pivot_table(df, index='OpSys', columns='OpenSource', values='Respondent', aggfunc='count', fill_value=0)\n",
        "pivot_table\n",
        "# Plotting\n",
        "plt.figure(figsize=(10, 6))\n",
        "pivot_table.plot(kind='bar')\n",
        "plt.title('Open Source Adoption Across Operating Systems')\n",
        "plt.xlabel('Operating System')\n",
        "plt.ylabel('Number of Respondents')\n",
        "plt.legend(title='Comparison with Closed Source',loc='best', bbox_to_anchor=(1.05, 1)) # place legend outside of the plot\n",
        "plt.xticks(rotation=0)\n",
        "plt.show()"
      ],
      "execution_count": 12
    },
    {
      "cell_type": "markdown",
      "metadata": {
        "id": "84848ebc-cf97-40ce-998a-923ca959140b"
      },
      "source": [
        "<details><Summary>Click here for the solution</Summary>\n",
        "\n",
        "```python\n",
        "pivot_table = pd.pivot_table(df, index='Opr', columns='OpenSource', values='Respondent', aggfunc='count', fill_value=0)\n",
        "\n",
        "# Plotting\n",
        "pivot_table.plot(kind='bar')\n",
        "plt.title('Open Source Adoption Across Operating Systems')\n",
        "plt.xlabel('Operating System')\n",
        "plt.ylabel('Number of Respondents')\n",
        "plt.legend(title='Comparison with Closed Source')\n",
        "plt.xticks(rotation=0)\n",
        "plt.show()\n",
        "```\n",
        "</details>\n"
      ]
    },
    {
      "cell_type": "markdown",
      "metadata": {
        "id": "07a48ecc-51b4-4add-b5b2-88610cc431ed"
      },
      "source": [
        "### Scenario 3: Job Satisfaction and Career Aspirations by Employment Status\n",
        "\n",
        "In this scenario, you can explore a deeper interpretation of the data using Pivot charts. Let us explore how employment status and job satisfaction affects the career aspirations of the respondents.\n",
        "\n",
        "For this, you need to create a pivot table with 'Employment' and 'JobSat' fields as index, 'MgrWant' field as columns and 'Respondent' as values with aggregation function as 'count'. Complete the following code block to generate the said pivot chart.\n",
        "\n",
        "Upon creation of the pivot chart, you can draw the inferences based on the visible distribution.\n"
      ]
    },
    {
      "cell_type": "code",
      "source": [
        "df[['Respondent','Employment','JobSat','MgrWant']]"
      ],
      "metadata": {
        "colab": {
          "base_uri": "https://localhost:8080/",
          "height": 423
        },
        "id": "hx2N1d-EP0ev",
        "outputId": "2da4ff80-9e39-4797-ca5d-478c2056f4a6"
      },
      "execution_count": 13,
      "outputs": [
        {
          "output_type": "execute_result",
          "data": {
            "text/plain": [
              "       Respondent          Employment                              JobSat  \\\n",
              "0               4  Employed full-time                  Slightly satisfied   \n",
              "1               9  Employed full-time                  Slightly satisfied   \n",
              "2              13  Employed full-time                      Very satisfied   \n",
              "3              16  Employed full-time                  Slightly satisfied   \n",
              "4              17  Employed full-time  Neither satisfied nor dissatisfied   \n",
              "...           ...                 ...                                 ...   \n",
              "11393       25136  Employed full-time                  Slightly satisfied   \n",
              "11394       25137  Employed full-time                  Slightly satisfied   \n",
              "11395       25138  Employed full-time               Slightly dissatisfied   \n",
              "11396       25141  Employed full-time               Slightly dissatisfied   \n",
              "11397       25142  Employed full-time                      Very satisfied   \n",
              "\n",
              "        MgrWant  \n",
              "0      Not sure  \n",
              "1      Not sure  \n",
              "2          None  \n",
              "3            No  \n",
              "4            No  \n",
              "...         ...  \n",
              "11393       Yes  \n",
              "11394  Not sure  \n",
              "11395        No  \n",
              "11396        No  \n",
              "11397  Not sure  \n",
              "\n",
              "[11398 rows x 4 columns]"
            ],
            "text/html": [
              "\n",
              "  <div id=\"df-9a5868e4-526f-45d0-bea8-2f6d9e8a0895\" class=\"colab-df-container\">\n",
              "    <div>\n",
              "<style scoped>\n",
              "    .dataframe tbody tr th:only-of-type {\n",
              "        vertical-align: middle;\n",
              "    }\n",
              "\n",
              "    .dataframe tbody tr th {\n",
              "        vertical-align: top;\n",
              "    }\n",
              "\n",
              "    .dataframe thead th {\n",
              "        text-align: right;\n",
              "    }\n",
              "</style>\n",
              "<table border=\"1\" class=\"dataframe\">\n",
              "  <thead>\n",
              "    <tr style=\"text-align: right;\">\n",
              "      <th></th>\n",
              "      <th>Respondent</th>\n",
              "      <th>Employment</th>\n",
              "      <th>JobSat</th>\n",
              "      <th>MgrWant</th>\n",
              "    </tr>\n",
              "  </thead>\n",
              "  <tbody>\n",
              "    <tr>\n",
              "      <th>0</th>\n",
              "      <td>4</td>\n",
              "      <td>Employed full-time</td>\n",
              "      <td>Slightly satisfied</td>\n",
              "      <td>Not sure</td>\n",
              "    </tr>\n",
              "    <tr>\n",
              "      <th>1</th>\n",
              "      <td>9</td>\n",
              "      <td>Employed full-time</td>\n",
              "      <td>Slightly satisfied</td>\n",
              "      <td>Not sure</td>\n",
              "    </tr>\n",
              "    <tr>\n",
              "      <th>2</th>\n",
              "      <td>13</td>\n",
              "      <td>Employed full-time</td>\n",
              "      <td>Very satisfied</td>\n",
              "      <td>None</td>\n",
              "    </tr>\n",
              "    <tr>\n",
              "      <th>3</th>\n",
              "      <td>16</td>\n",
              "      <td>Employed full-time</td>\n",
              "      <td>Slightly satisfied</td>\n",
              "      <td>No</td>\n",
              "    </tr>\n",
              "    <tr>\n",
              "      <th>4</th>\n",
              "      <td>17</td>\n",
              "      <td>Employed full-time</td>\n",
              "      <td>Neither satisfied nor dissatisfied</td>\n",
              "      <td>No</td>\n",
              "    </tr>\n",
              "    <tr>\n",
              "      <th>...</th>\n",
              "      <td>...</td>\n",
              "      <td>...</td>\n",
              "      <td>...</td>\n",
              "      <td>...</td>\n",
              "    </tr>\n",
              "    <tr>\n",
              "      <th>11393</th>\n",
              "      <td>25136</td>\n",
              "      <td>Employed full-time</td>\n",
              "      <td>Slightly satisfied</td>\n",
              "      <td>Yes</td>\n",
              "    </tr>\n",
              "    <tr>\n",
              "      <th>11394</th>\n",
              "      <td>25137</td>\n",
              "      <td>Employed full-time</td>\n",
              "      <td>Slightly satisfied</td>\n",
              "      <td>Not sure</td>\n",
              "    </tr>\n",
              "    <tr>\n",
              "      <th>11395</th>\n",
              "      <td>25138</td>\n",
              "      <td>Employed full-time</td>\n",
              "      <td>Slightly dissatisfied</td>\n",
              "      <td>No</td>\n",
              "    </tr>\n",
              "    <tr>\n",
              "      <th>11396</th>\n",
              "      <td>25141</td>\n",
              "      <td>Employed full-time</td>\n",
              "      <td>Slightly dissatisfied</td>\n",
              "      <td>No</td>\n",
              "    </tr>\n",
              "    <tr>\n",
              "      <th>11397</th>\n",
              "      <td>25142</td>\n",
              "      <td>Employed full-time</td>\n",
              "      <td>Very satisfied</td>\n",
              "      <td>Not sure</td>\n",
              "    </tr>\n",
              "  </tbody>\n",
              "</table>\n",
              "<p>11398 rows × 4 columns</p>\n",
              "</div>\n",
              "    <div class=\"colab-df-buttons\">\n",
              "\n",
              "  <div class=\"colab-df-container\">\n",
              "    <button class=\"colab-df-convert\" onclick=\"convertToInteractive('df-9a5868e4-526f-45d0-bea8-2f6d9e8a0895')\"\n",
              "            title=\"Convert this dataframe to an interactive table.\"\n",
              "            style=\"display:none;\">\n",
              "\n",
              "  <svg xmlns=\"http://www.w3.org/2000/svg\" height=\"24px\" viewBox=\"0 -960 960 960\">\n",
              "    <path d=\"M120-120v-720h720v720H120Zm60-500h600v-160H180v160Zm220 220h160v-160H400v160Zm0 220h160v-160H400v160ZM180-400h160v-160H180v160Zm440 0h160v-160H620v160ZM180-180h160v-160H180v160Zm440 0h160v-160H620v160Z\"/>\n",
              "  </svg>\n",
              "    </button>\n",
              "\n",
              "  <style>\n",
              "    .colab-df-container {\n",
              "      display:flex;\n",
              "      gap: 12px;\n",
              "    }\n",
              "\n",
              "    .colab-df-convert {\n",
              "      background-color: #E8F0FE;\n",
              "      border: none;\n",
              "      border-radius: 50%;\n",
              "      cursor: pointer;\n",
              "      display: none;\n",
              "      fill: #1967D2;\n",
              "      height: 32px;\n",
              "      padding: 0 0 0 0;\n",
              "      width: 32px;\n",
              "    }\n",
              "\n",
              "    .colab-df-convert:hover {\n",
              "      background-color: #E2EBFA;\n",
              "      box-shadow: 0px 1px 2px rgba(60, 64, 67, 0.3), 0px 1px 3px 1px rgba(60, 64, 67, 0.15);\n",
              "      fill: #174EA6;\n",
              "    }\n",
              "\n",
              "    .colab-df-buttons div {\n",
              "      margin-bottom: 4px;\n",
              "    }\n",
              "\n",
              "    [theme=dark] .colab-df-convert {\n",
              "      background-color: #3B4455;\n",
              "      fill: #D2E3FC;\n",
              "    }\n",
              "\n",
              "    [theme=dark] .colab-df-convert:hover {\n",
              "      background-color: #434B5C;\n",
              "      box-shadow: 0px 1px 3px 1px rgba(0, 0, 0, 0.15);\n",
              "      filter: drop-shadow(0px 1px 2px rgba(0, 0, 0, 0.3));\n",
              "      fill: #FFFFFF;\n",
              "    }\n",
              "  </style>\n",
              "\n",
              "    <script>\n",
              "      const buttonEl =\n",
              "        document.querySelector('#df-9a5868e4-526f-45d0-bea8-2f6d9e8a0895 button.colab-df-convert');\n",
              "      buttonEl.style.display =\n",
              "        google.colab.kernel.accessAllowed ? 'block' : 'none';\n",
              "\n",
              "      async function convertToInteractive(key) {\n",
              "        const element = document.querySelector('#df-9a5868e4-526f-45d0-bea8-2f6d9e8a0895');\n",
              "        const dataTable =\n",
              "          await google.colab.kernel.invokeFunction('convertToInteractive',\n",
              "                                                    [key], {});\n",
              "        if (!dataTable) return;\n",
              "\n",
              "        const docLinkHtml = 'Like what you see? Visit the ' +\n",
              "          '<a target=\"_blank\" href=https://colab.research.google.com/notebooks/data_table.ipynb>data table notebook</a>'\n",
              "          + ' to learn more about interactive tables.';\n",
              "        element.innerHTML = '';\n",
              "        dataTable['output_type'] = 'display_data';\n",
              "        await google.colab.output.renderOutput(dataTable, element);\n",
              "        const docLink = document.createElement('div');\n",
              "        docLink.innerHTML = docLinkHtml;\n",
              "        element.appendChild(docLink);\n",
              "      }\n",
              "    </script>\n",
              "  </div>\n",
              "\n",
              "\n",
              "<div id=\"df-564aba48-59e2-47ef-b5a3-fc6ed058c4ae\">\n",
              "  <button class=\"colab-df-quickchart\" onclick=\"quickchart('df-564aba48-59e2-47ef-b5a3-fc6ed058c4ae')\"\n",
              "            title=\"Suggest charts\"\n",
              "            style=\"display:none;\">\n",
              "\n",
              "<svg xmlns=\"http://www.w3.org/2000/svg\" height=\"24px\"viewBox=\"0 0 24 24\"\n",
              "     width=\"24px\">\n",
              "    <g>\n",
              "        <path d=\"M19 3H5c-1.1 0-2 .9-2 2v14c0 1.1.9 2 2 2h14c1.1 0 2-.9 2-2V5c0-1.1-.9-2-2-2zM9 17H7v-7h2v7zm4 0h-2V7h2v10zm4 0h-2v-4h2v4z\"/>\n",
              "    </g>\n",
              "</svg>\n",
              "  </button>\n",
              "\n",
              "<style>\n",
              "  .colab-df-quickchart {\n",
              "      --bg-color: #E8F0FE;\n",
              "      --fill-color: #1967D2;\n",
              "      --hover-bg-color: #E2EBFA;\n",
              "      --hover-fill-color: #174EA6;\n",
              "      --disabled-fill-color: #AAA;\n",
              "      --disabled-bg-color: #DDD;\n",
              "  }\n",
              "\n",
              "  [theme=dark] .colab-df-quickchart {\n",
              "      --bg-color: #3B4455;\n",
              "      --fill-color: #D2E3FC;\n",
              "      --hover-bg-color: #434B5C;\n",
              "      --hover-fill-color: #FFFFFF;\n",
              "      --disabled-bg-color: #3B4455;\n",
              "      --disabled-fill-color: #666;\n",
              "  }\n",
              "\n",
              "  .colab-df-quickchart {\n",
              "    background-color: var(--bg-color);\n",
              "    border: none;\n",
              "    border-radius: 50%;\n",
              "    cursor: pointer;\n",
              "    display: none;\n",
              "    fill: var(--fill-color);\n",
              "    height: 32px;\n",
              "    padding: 0;\n",
              "    width: 32px;\n",
              "  }\n",
              "\n",
              "  .colab-df-quickchart:hover {\n",
              "    background-color: var(--hover-bg-color);\n",
              "    box-shadow: 0 1px 2px rgba(60, 64, 67, 0.3), 0 1px 3px 1px rgba(60, 64, 67, 0.15);\n",
              "    fill: var(--button-hover-fill-color);\n",
              "  }\n",
              "\n",
              "  .colab-df-quickchart-complete:disabled,\n",
              "  .colab-df-quickchart-complete:disabled:hover {\n",
              "    background-color: var(--disabled-bg-color);\n",
              "    fill: var(--disabled-fill-color);\n",
              "    box-shadow: none;\n",
              "  }\n",
              "\n",
              "  .colab-df-spinner {\n",
              "    border: 2px solid var(--fill-color);\n",
              "    border-color: transparent;\n",
              "    border-bottom-color: var(--fill-color);\n",
              "    animation:\n",
              "      spin 1s steps(1) infinite;\n",
              "  }\n",
              "\n",
              "  @keyframes spin {\n",
              "    0% {\n",
              "      border-color: transparent;\n",
              "      border-bottom-color: var(--fill-color);\n",
              "      border-left-color: var(--fill-color);\n",
              "    }\n",
              "    20% {\n",
              "      border-color: transparent;\n",
              "      border-left-color: var(--fill-color);\n",
              "      border-top-color: var(--fill-color);\n",
              "    }\n",
              "    30% {\n",
              "      border-color: transparent;\n",
              "      border-left-color: var(--fill-color);\n",
              "      border-top-color: var(--fill-color);\n",
              "      border-right-color: var(--fill-color);\n",
              "    }\n",
              "    40% {\n",
              "      border-color: transparent;\n",
              "      border-right-color: var(--fill-color);\n",
              "      border-top-color: var(--fill-color);\n",
              "    }\n",
              "    60% {\n",
              "      border-color: transparent;\n",
              "      border-right-color: var(--fill-color);\n",
              "    }\n",
              "    80% {\n",
              "      border-color: transparent;\n",
              "      border-right-color: var(--fill-color);\n",
              "      border-bottom-color: var(--fill-color);\n",
              "    }\n",
              "    90% {\n",
              "      border-color: transparent;\n",
              "      border-bottom-color: var(--fill-color);\n",
              "    }\n",
              "  }\n",
              "</style>\n",
              "\n",
              "  <script>\n",
              "    async function quickchart(key) {\n",
              "      const quickchartButtonEl =\n",
              "        document.querySelector('#' + key + ' button');\n",
              "      quickchartButtonEl.disabled = true;  // To prevent multiple clicks.\n",
              "      quickchartButtonEl.classList.add('colab-df-spinner');\n",
              "      try {\n",
              "        const charts = await google.colab.kernel.invokeFunction(\n",
              "            'suggestCharts', [key], {});\n",
              "      } catch (error) {\n",
              "        console.error('Error during call to suggestCharts:', error);\n",
              "      }\n",
              "      quickchartButtonEl.classList.remove('colab-df-spinner');\n",
              "      quickchartButtonEl.classList.add('colab-df-quickchart-complete');\n",
              "    }\n",
              "    (() => {\n",
              "      let quickchartButtonEl =\n",
              "        document.querySelector('#df-564aba48-59e2-47ef-b5a3-fc6ed058c4ae button');\n",
              "      quickchartButtonEl.style.display =\n",
              "        google.colab.kernel.accessAllowed ? 'block' : 'none';\n",
              "    })();\n",
              "  </script>\n",
              "</div>\n",
              "\n",
              "    </div>\n",
              "  </div>\n"
            ],
            "application/vnd.google.colaboratory.intrinsic+json": {
              "type": "dataframe",
              "summary": "{\n  \"name\": \"df[['Respondent','Employment','JobSat','MgrWant']]\",\n  \"rows\": 11398,\n  \"fields\": [\n    {\n      \"column\": \"Respondent\",\n      \"properties\": {\n        \"dtype\": \"number\",\n        \"std\": 7235,\n        \"min\": 4,\n        \"max\": 25142,\n        \"num_unique_values\": 11398,\n        \"samples\": [\n          3830,\n          5753,\n          675\n        ],\n        \"semantic_type\": \"\",\n        \"description\": \"\"\n      }\n    },\n    {\n      \"column\": \"Employment\",\n      \"properties\": {\n        \"dtype\": \"category\",\n        \"num_unique_values\": 2,\n        \"samples\": [\n          \"Employed part-time\",\n          \"Employed full-time\"\n        ],\n        \"semantic_type\": \"\",\n        \"description\": \"\"\n      }\n    },\n    {\n      \"column\": \"JobSat\",\n      \"properties\": {\n        \"dtype\": \"category\",\n        \"num_unique_values\": 5,\n        \"samples\": [\n          \"Very satisfied\",\n          \"Very dissatisfied\"\n        ],\n        \"semantic_type\": \"\",\n        \"description\": \"\"\n      }\n    },\n    {\n      \"column\": \"MgrWant\",\n      \"properties\": {\n        \"dtype\": \"category\",\n        \"num_unique_values\": 4,\n        \"samples\": [\n          \"No\",\n          \"Yes\"\n        ],\n        \"semantic_type\": \"\",\n        \"description\": \"\"\n      }\n    }\n  ]\n}"
            }
          },
          "metadata": {},
          "execution_count": 13
        }
      ]
    },
    {
      "cell_type": "code",
      "metadata": {
        "id": "6712baa3-f941-4898-8886-a1236e6aa038"
      },
      "outputs": [],
      "source": [
        "# pivot_table = pd.pivot_table(df, index=['Employment','JobSat'], columns='MgrWant', values='Respondent', aggfunc='count', fill_value=0)\n",
        "# pivot_table\n",
        "# # Plotting\n",
        "\n",
        "# plt.figure(figsize=(55, 40))\n",
        "# # ... (rest of your plotting code)\n",
        "# plt.subplots_adjust(left=0.1, right=0.9, top=0.9, bottom=0.1)\n",
        "# pivot_table.plot(kind='bar', stacked=True)\n",
        "\n",
        "# # Shorten x-axis labels and create a legend\n",
        "# labels = pivot_table.index\n",
        "# short_labels = ['EN', 'ES', 'IC', 'NE-NL', 'NE-L', 'Ret']\n",
        "\n",
        "# plt.xticks(range(len(short_labels)), short_labels, rotation=45, ha='right', fontsize=7)\n",
        "# # Create legend for x-axis labels\n",
        "# legend_elements = [plt.Line2D([0], [0], marker='o', color='w', label=label, markerfacecolor='black', markersize=10) for label in labels]\n",
        "# plt.legend(handles=legend_elements, title='Employment Status', loc='best', bbox_to_anchor=(1.05, 0))\n",
        "\n",
        "# # ... (rest of your plotting code)\n",
        "\n",
        "# plt.title('Career Aspirations by Employment Status')\n",
        "# plt.xticks(rotation=45, ha='right',fontsize = 7)\n",
        "# plt.xlabel('Employment Status')\n",
        "# plt.ylabel('Number of Respondents')\n",
        "# plt.legend(title='Desire to be a Manager',loc='best', bbox_to_anchor=(1.05, 1)) # place legend outside of the plot\n",
        "\n",
        "# # Existing legend for the bars\n",
        "# leg1 = plt.legend(title='Desire to be a Manager',loc='best', bbox_to_anchor=(1.05, 1))\n",
        "\n",
        "# # Add a legend for the x-axis labels\n",
        "# legend_elements = [plt.Line2D([0], [0], marker='o', color='w', label=label,\n",
        "#                            markerfacecolor='black', markersize=10) for label in labels]\n",
        "# plt.legend(handles=legend_elements, title='Employment Status', loc='best',\n",
        "#            bbox_to_anchor=(1.05, 0))\n",
        "\n",
        "# # Add the existing legend back\n",
        "# plt.gca().add_artist(leg1)\n",
        "\n",
        "\n",
        "# # plt.xticks(rotation=0)\n",
        "# plt.tight_layout()\n",
        "# plt.show()\n"
      ],
      "execution_count": 14
    },
    {
      "cell_type": "code",
      "source": [
        "# Pivot table\n",
        "pivot_table = pd.pivot_table(df, index=['Employment','JobSat'], columns='MgrWant', values='Respondent', aggfunc='count', fill_value=0)\n",
        "\n",
        "# Plotting\n",
        "plt.figure(figsize=(155, 40))\n",
        "plt.subplots_adjust(left=0.1, right=0.9, top=0.9, bottom=0.1)\n",
        "pivot_table.plot(kind='hbar', stacked=True)\n",
        "\n",
        "# Shorten x-axis labels\n",
        "labels = pivot_table.index\n",
        "short_labels = ['EN', 'ES', 'IC', 'NE-NL', 'NE-L', 'Ret']\n",
        "plt.xticks(range(len(short_labels)), short_labels, rotation=45, ha='right', fontsize=7)\n",
        "\n",
        "# Title and labels\n",
        "plt.title('Career Aspirations by Employment Status')\n",
        "plt.xlabel('Employment Status')\n",
        "plt.ylabel('Number of Respondents')\n",
        "\n",
        "# Legends\n",
        "leg1 = plt.legend(title='Desire to be a Manager',loc='best',fontsize=7)   #, bbox_to_anchor=(1.05, 1))\n",
        "legend_elements = [plt.Line2D([0], [0], marker='o', color='w', label=label, markerfacecolor='black', markersize=10) for label in labels]\n",
        "plt.legend(handles=legend_elements, title='Employment Status', loc='best', bbox_to_anchor=(-0.2, 1), fontsize=7)\n",
        "plt.gca().add_artist(leg1)\n",
        "\n",
        "plt.tight_layout()\n",
        "plt.show()\n"
      ],
      "metadata": {
        "colab": {
          "base_uri": "https://localhost:8080/",
          "height": 360
        },
        "id": "5dcJ_3p1VUUH",
        "outputId": "3439b21f-6502-4ed7-e78e-3893012bd5dd"
      },
      "execution_count": 15,
      "outputs": [
        {
          "output_type": "error",
          "ename": "ValueError",
          "evalue": "hbar is not a valid plot kind",
          "traceback": [
            "\u001b[0;31m---------------------------------------------------------------------------\u001b[0m",
            "\u001b[0;31mValueError\u001b[0m                                Traceback (most recent call last)",
            "\u001b[0;32m<ipython-input-15-feddc499cba8>\u001b[0m in \u001b[0;36m<cell line: 7>\u001b[0;34m()\u001b[0m\n\u001b[1;32m      5\u001b[0m \u001b[0mplt\u001b[0m\u001b[0;34m.\u001b[0m\u001b[0mfigure\u001b[0m\u001b[0;34m(\u001b[0m\u001b[0mfigsize\u001b[0m\u001b[0;34m=\u001b[0m\u001b[0;34m(\u001b[0m\u001b[0;36m155\u001b[0m\u001b[0;34m,\u001b[0m \u001b[0;36m40\u001b[0m\u001b[0;34m)\u001b[0m\u001b[0;34m)\u001b[0m\u001b[0;34m\u001b[0m\u001b[0;34m\u001b[0m\u001b[0m\n\u001b[1;32m      6\u001b[0m \u001b[0mplt\u001b[0m\u001b[0;34m.\u001b[0m\u001b[0msubplots_adjust\u001b[0m\u001b[0;34m(\u001b[0m\u001b[0mleft\u001b[0m\u001b[0;34m=\u001b[0m\u001b[0;36m0.1\u001b[0m\u001b[0;34m,\u001b[0m \u001b[0mright\u001b[0m\u001b[0;34m=\u001b[0m\u001b[0;36m0.9\u001b[0m\u001b[0;34m,\u001b[0m \u001b[0mtop\u001b[0m\u001b[0;34m=\u001b[0m\u001b[0;36m0.9\u001b[0m\u001b[0;34m,\u001b[0m \u001b[0mbottom\u001b[0m\u001b[0;34m=\u001b[0m\u001b[0;36m0.1\u001b[0m\u001b[0;34m)\u001b[0m\u001b[0;34m\u001b[0m\u001b[0;34m\u001b[0m\u001b[0m\n\u001b[0;32m----> 7\u001b[0;31m \u001b[0mpivot_table\u001b[0m\u001b[0;34m.\u001b[0m\u001b[0mplot\u001b[0m\u001b[0;34m(\u001b[0m\u001b[0mkind\u001b[0m\u001b[0;34m=\u001b[0m\u001b[0;34m'hbar'\u001b[0m\u001b[0;34m,\u001b[0m \u001b[0mstacked\u001b[0m\u001b[0;34m=\u001b[0m\u001b[0;32mTrue\u001b[0m\u001b[0;34m)\u001b[0m\u001b[0;34m\u001b[0m\u001b[0;34m\u001b[0m\u001b[0m\n\u001b[0m\u001b[1;32m      8\u001b[0m \u001b[0;34m\u001b[0m\u001b[0m\n\u001b[1;32m      9\u001b[0m \u001b[0;31m# Shorten x-axis labels\u001b[0m\u001b[0;34m\u001b[0m\u001b[0;34m\u001b[0m\u001b[0m\n",
            "\u001b[0;32m/usr/local/lib/python3.10/dist-packages/pandas/plotting/_core.py\u001b[0m in \u001b[0;36m__call__\u001b[0;34m(self, *args, **kwargs)\u001b[0m\n\u001b[1;32m    962\u001b[0m \u001b[0;34m\u001b[0m\u001b[0m\n\u001b[1;32m    963\u001b[0m         \u001b[0;32mif\u001b[0m \u001b[0mkind\u001b[0m \u001b[0;32mnot\u001b[0m \u001b[0;32min\u001b[0m \u001b[0mself\u001b[0m\u001b[0;34m.\u001b[0m\u001b[0m_all_kinds\u001b[0m\u001b[0;34m:\u001b[0m\u001b[0;34m\u001b[0m\u001b[0;34m\u001b[0m\u001b[0m\n\u001b[0;32m--> 964\u001b[0;31m             \u001b[0;32mraise\u001b[0m \u001b[0mValueError\u001b[0m\u001b[0;34m(\u001b[0m\u001b[0;34mf\"{kind} is not a valid plot kind\"\u001b[0m\u001b[0;34m)\u001b[0m\u001b[0;34m\u001b[0m\u001b[0;34m\u001b[0m\u001b[0m\n\u001b[0m\u001b[1;32m    965\u001b[0m \u001b[0;34m\u001b[0m\u001b[0m\n\u001b[1;32m    966\u001b[0m         \u001b[0;31m# The original data structured can be transformed before passed to the\u001b[0m\u001b[0;34m\u001b[0m\u001b[0;34m\u001b[0m\u001b[0m\n",
            "\u001b[0;31mValueError\u001b[0m: hbar is not a valid plot kind"
          ]
        },
        {
          "output_type": "display_data",
          "data": {
            "text/plain": [
              "<Figure size 15500x4000 with 0 Axes>"
            ]
          },
          "metadata": {}
        }
      ]
    },
    {
      "cell_type": "markdown",
      "metadata": {
        "id": "285e025b-1a4c-46ff-87a3-4a899e979f9a"
      },
      "source": [
        "<details><summary>Click here for solution</summary>\n",
        "\n",
        "```python\n",
        "pivot_table = pd.pivot_table(df, index='Employment', columns='MgrWant', values='RespondentID', aggfunc='count', fill_value=0)\n",
        "\n",
        "# Plotting\n",
        "pivot_table.plot(kind='bar', stacked=True)\n",
        "plt.title('Career Aspirations by Employment Status')\n",
        "plt.xlabel('Employment Status')\n",
        "plt.ylabel('Number of Respondents')\n",
        "plt.legend(title='Desire to be a Manager')\n",
        "plt.xticks(rotation=0)\n",
        "plt.show()\n",
        "```\n",
        "</details>\n"
      ]
    },
    {
      "cell_type": "code",
      "metadata": {
        "id": "478755cf-b9f1-459a-bbe4-0b4528e095ee"
      },
      "outputs": [],
      "source": [
        "df.to_excel('./data.xlsx', index=False)"
      ],
      "execution_count": null
    },
    {
      "cell_type": "markdown",
      "metadata": {
        "id": "4e700acf-e992-460a-b89a-adf8fc89f00b"
      },
      "source": [
        "<!--|Date (YYYY-MM-DD)|Version|Changed By|Change Description|\n",
        "|-|-|-|-|>\n"
      ]
    },
    {
      "cell_type": "markdown",
      "metadata": {
        "id": "e9a0ba21-af0c-475e-9efb-cd15286e9a91"
      },
      "source": [
        "Copyright © IBM Corporation. All rights reserved.\n"
      ]
    }
  ],
  "metadata": {
    "kernelspec": {
      "display_name": "Python 3 (ipykernel)",
      "language": "python",
      "name": "python3"
    },
    "language_info": {
      "codemirror_mode": {
        "name": "ipython",
        "version": 3
      },
      "file_extension": ".py",
      "mimetype": "text/x-python",
      "name": "python",
      "nbconvert_exporter": "python",
      "pygments_lexer": "ipython3",
      "version": "3.11.9"
    },
    "prev_pub_hash": "e858c5b92fd817622de3e03372b3e14a9aaefe275fe9c5f6ec25fbc2198248f4",
    "colab": {
      "provenance": [],
      "include_colab_link": true
    }
  },
  "nbformat": 4,
  "nbformat_minor": 0
}
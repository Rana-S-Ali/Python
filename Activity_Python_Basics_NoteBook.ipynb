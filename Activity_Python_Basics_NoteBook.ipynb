{
  "metadata": {
    "kernelspec": {
      "name": "python",
      "display_name": "Python (Pyodide)",
      "language": "python"
    },
    "language_info": {
      "codemirror_mode": {
        "name": "python",
        "version": 3
      },
      "file_extension": ".py",
      "mimetype": "text/x-python",
      "name": "python",
      "nbconvert_exporter": "python",
      "pygments_lexer": "ipython3",
      "version": "3.8"
    },
    "colab": {
      "provenance": [],
      "include_colab_link": true
    }
  },
  "nbformat_minor": 0,
  "nbformat": 4,
  "cells": [
    {
      "cell_type": "markdown",
      "metadata": {
        "id": "view-in-github",
        "colab_type": "text"
      },
      "source": [
        "<a href=\"https://colab.research.google.com/github/RanaTuk/ProtfolioPrject/blob/main/Activity_Python_Basics_NoteBook.ipynb\" target=\"_parent\"><img src=\"https://colab.research.google.com/assets/colab-badge.svg\" alt=\"Open In Colab\"/></a>"
      ]
    },
    {
      "cell_type": "markdown",
      "source": [
        "# Python Basics NoteBook"
      ],
      "metadata": {
        "id": "5-jRnf59VFzd"
      }
    },
    {
      "cell_type": "code",
      "source": [
        "#Write a Python code to return your Python version\n",
        "import sys\n",
        "print(sys.version)\n"
      ],
      "metadata": {
        "trusted": true,
        "colab": {
          "base_uri": "https://localhost:8080/"
        },
        "id": "eeE6hMWxVFzi",
        "outputId": "8456bd66-7647-4366-ba69-309d3c17ace9"
      },
      "outputs": [
        {
          "output_type": "stream",
          "name": "stdout",
          "text": [
            "3.10.12 (main, Nov 20 2023, 15:14:05) [GCC 11.4.0]\n"
          ]
        }
      ],
      "execution_count": 70
    },
    {
      "cell_type": "code",
      "source": [
        "#Write a Python code to declare variable id=\"513\".\n",
        "id = \"513\"\n",
        "#Print the following statement \"customer id =513\". [Don't use print(\"customer id =513\")]\n",
        "print(\"customer id =\",id)\n"
      ],
      "metadata": {
        "trusted": true,
        "colab": {
          "base_uri": "https://localhost:8080/"
        },
        "id": "pmfObiDwVFzk",
        "outputId": "62eac58c-12b9-4144-87a3-c6e539c8634a"
      },
      "outputs": [
        {
          "output_type": "stream",
          "name": "stdout",
          "text": [
            "customer id = 513\n"
          ]
        }
      ],
      "execution_count": 71
    },
    {
      "cell_type": "code",
      "source": [
        "#Run the following statement, why there is an error\n",
        "# because we did not assign a value for id before using it\n",
        "\n",
        "id=id+\"1\"\n",
        "print(id)"
      ],
      "metadata": {
        "trusted": true,
        "colab": {
          "base_uri": "https://localhost:8080/"
        },
        "id": "Cj66gU2RVFzl",
        "outputId": "7bb870e2-a2f5-437e-fe40-3fd5e9e98c3e"
      },
      "outputs": [
        {
          "output_type": "stream",
          "name": "stdout",
          "text": [
            "5131\n"
          ]
        }
      ],
      "execution_count": 72
    },
    {
      "cell_type": "code",
      "source": [
        "#Convert the variable id into an integer, increment it by 1.\n",
        "#Assign the result to variable new_id.\n",
        "#Print the new_id\n",
        "new_id = int(id) + 1\n",
        "print(new_id)\n"
      ],
      "metadata": {
        "trusted": true,
        "colab": {
          "base_uri": "https://localhost:8080/"
        },
        "id": "Bn8ZCm0JVFzl",
        "outputId": "f0adf137-4416-4b07-801a-e699dcd90a41"
      },
      "outputs": [
        {
          "output_type": "stream",
          "name": "stdout",
          "text": [
            "5132\n"
          ]
        }
      ],
      "execution_count": 73
    },
    {
      "cell_type": "code",
      "source": [
        "#Write a Python code to print the following string in a specific format (see the output).\n",
        "\n",
        "# Twinkle, twinkle, little star,\n",
        "#     How I wonder what you are!\n",
        "#        Up above the world so high,\n",
        "#            Like a diamond in the sky.\n",
        "\n",
        "print(\"Twinkle, twinkle, little star, \\n\")\n",
        "print(\"\\t How I wonder what you are!, \\n\")\n",
        "print(\"\\t\\t Up above the world so high,  \\n\")\n",
        "print(\"\\t\\t\\t Like a diamond in the sky.   \\n\")\n"
      ],
      "metadata": {
        "trusted": true,
        "colab": {
          "base_uri": "https://localhost:8080/"
        },
        "id": "47TLCVZXVFzl",
        "outputId": "97716341-b7fe-4353-a0f3-32e305490fca"
      },
      "outputs": [
        {
          "output_type": "stream",
          "name": "stdout",
          "text": [
            "Twinkle, twinkle, little star, \n",
            "\n",
            "\t How I wonder what you are!, \n",
            "\n",
            "\t\t Up above the world so high,  \n",
            "\n",
            "\t\t\t Like a diamond in the sky.   \n",
            "\n"
          ]
        }
      ],
      "execution_count": 74
    },
    {
      "cell_type": "code",
      "source": [
        "#Givin the following string variable, # Print the first element in the string\n",
        "\n",
        "course=\"Python for Data Science\"\n",
        "print(course[0])\n"
      ],
      "metadata": {
        "trusted": true,
        "colab": {
          "base_uri": "https://localhost:8080/"
        },
        "id": "m_IEQv2sVFzm",
        "outputId": "e62dbd10-211d-4245-ee33-18a5bccfafa4"
      },
      "outputs": [
        {
          "output_type": "stream",
          "name": "stdout",
          "text": [
            "P\n"
          ]
        }
      ],
      "execution_count": 75
    },
    {
      "cell_type": "code",
      "source": [
        "# Print the element on the 13th index in the string\n",
        "print(course[13])"
      ],
      "metadata": {
        "trusted": true,
        "colab": {
          "base_uri": "https://localhost:8080/"
        },
        "id": "W8Hf4YjPVFzm",
        "outputId": "08053a62-3c44-4189-c656-4d160e557251"
      },
      "outputs": [
        {
          "output_type": "stream",
          "name": "stdout",
          "text": [
            "t\n"
          ]
        }
      ],
      "execution_count": 76
    },
    {
      "cell_type": "code",
      "source": [
        "# Find the length of string\n",
        "print(len(course))\n"
      ],
      "metadata": {
        "trusted": true,
        "colab": {
          "base_uri": "https://localhost:8080/"
        },
        "id": "usRpDGcJVFzm",
        "outputId": "68af6f75-d17d-4fb4-c901-0d19417c13a2"
      },
      "outputs": [
        {
          "output_type": "stream",
          "name": "stdout",
          "text": [
            "23\n"
          ]
        }
      ],
      "execution_count": 77
    },
    {
      "cell_type": "code",
      "source": [
        "# Print the last element in the string [use negative index]\n",
        "print(course[-1])"
      ],
      "metadata": {
        "trusted": true,
        "colab": {
          "base_uri": "https://localhost:8080/"
        },
        "id": "oyd6zwRPVFzm",
        "outputId": "dd0fee09-0693-402c-b362-2e6306f7b3b1"
      },
      "outputs": [
        {
          "output_type": "stream",
          "name": "stdout",
          "text": [
            "e\n"
          ]
        }
      ],
      "execution_count": 78
    },
    {
      "cell_type": "code",
      "source": [
        "# Take the slice on variable course with only index 11 to index 14\n",
        "print(course[11:15])"
      ],
      "metadata": {
        "trusted": true,
        "colab": {
          "base_uri": "https://localhost:8080/"
        },
        "id": "mtraamO2VFzn",
        "outputId": "529d27d3-363e-4fd1-c710-55956652ee68"
      },
      "outputs": [
        {
          "output_type": "stream",
          "name": "stdout",
          "text": [
            "Data\n"
          ]
        }
      ],
      "execution_count": 79
    },
    {
      "cell_type": "code",
      "source": [
        "# Get every third element in the range from index 0 to index 20\n",
        "print(course[0:20:3])"
      ],
      "metadata": {
        "trusted": true,
        "colab": {
          "base_uri": "https://localhost:8080/"
        },
        "id": "znM1INsiVFzn",
        "outputId": "740f5d5a-3a13-421e-f199-fe68d3479223"
      },
      "outputs": [
        {
          "output_type": "stream",
          "name": "stdout",
          "text": [
            "Ph ra i\n"
          ]
        }
      ],
      "execution_count": 80
    },
    {
      "cell_type": "code",
      "source": [
        "# Concatenate course string with \", AI & Development\"\n",
        "course1 = course + \", AI & Development\"\n",
        "print(course1)"
      ],
      "metadata": {
        "trusted": true,
        "colab": {
          "base_uri": "https://localhost:8080/"
        },
        "id": "_JCV9GyoVFzn",
        "outputId": "358e22d3-2cc6-4560-9c96-f4d9f3e7742a"
      },
      "outputs": [
        {
          "output_type": "stream",
          "name": "stdout",
          "text": [
            "Python for Data Science, AI & Development\n"
          ]
        }
      ],
      "execution_count": 81
    },
    {
      "cell_type": "code",
      "source": [
        "# Replace all the spaces with (_). New string should looks like\"Python_for_Data_Science,_AI_&_Development\"\n",
        "course3 = course1.replace(\" \",\"_\")\n",
        "print(course3)"
      ],
      "metadata": {
        "trusted": true,
        "colab": {
          "base_uri": "https://localhost:8080/"
        },
        "id": "1GtL64X1VFzo",
        "outputId": "417a793f-294a-446c-a0ef-a5e26d1afc08"
      },
      "outputs": [
        {
          "output_type": "stream",
          "name": "stdout",
          "text": [
            "Python_for_Data_Science,_AI_&_Development\n"
          ]
        }
      ],
      "execution_count": 82
    },
    {
      "cell_type": "code",
      "source": [
        "# Convert all the characters in string to upper case\n",
        "course4 = course.upper()\n",
        "print(course4)"
      ],
      "metadata": {
        "trusted": true,
        "colab": {
          "base_uri": "https://localhost:8080/"
        },
        "id": "-po3pQaFVFzo",
        "outputId": "6805ca32-5734-4fe3-ff05-2fa1984581cc"
      },
      "outputs": [
        {
          "output_type": "stream",
          "name": "stdout",
          "text": [
            "PYTHON FOR DATA SCIENCE\n"
          ]
        }
      ],
      "execution_count": 83
    },
    {
      "cell_type": "code",
      "source": [
        "a = \"Thriller is the sixth studio album\"\n",
        "print(\"before upper:\", a)\n",
        "b = a.upper()\n",
        "print(\"After upper:\", b)"
      ],
      "metadata": {
        "colab": {
          "base_uri": "https://localhost:8080/"
        },
        "id": "g9igVcefbOYU",
        "outputId": "cefeccb3-871c-4dee-fd8d-eab8833c0f05"
      },
      "execution_count": 84,
      "outputs": [
        {
          "output_type": "stream",
          "name": "stdout",
          "text": [
            "before upper: Thriller is the sixth studio album\n",
            "After upper: THRILLER IS THE SIXTH STUDIO ALBUM\n"
          ]
        }
      ]
    },
    {
      "cell_type": "code",
      "source": [
        "name = \"Michael Jackfon\"\n",
        "name.find('el')\n",
        "print(\"el is ound in :\",name.find('el'))"
      ],
      "metadata": {
        "trusted": true,
        "colab": {
          "base_uri": "https://localhost:8080/"
        },
        "id": "nJJznsbvVFzo",
        "outputId": "ede7cee2-8bc8-4805-d75e-8fefe12508a9"
      },
      "outputs": [
        {
          "output_type": "stream",
          "name": "stdout",
          "text": [
            "el is ound in : 5\n"
          ]
        }
      ],
      "execution_count": 85
    },
    {
      "cell_type": "code",
      "source": [
        "print(name.find('Jasdfasdasdf'))"
      ],
      "metadata": {
        "colab": {
          "base_uri": "https://localhost:8080/"
        },
        "id": "f58Z12KrbvB_",
        "outputId": "793a0e6a-3897-4549-e715-5d1dfca3d86f"
      },
      "execution_count": 86,
      "outputs": [
        {
          "output_type": "stream",
          "name": "stdout",
          "text": [
            "-1\n"
          ]
        }
      ]
    },
    {
      "cell_type": "code",
      "source": [
        "#Split the substring into list using space separator\n",
        "name = \"Michael Jacfson\"\n",
        "split_string = (name.split())\n",
        "print(split_string)"
      ],
      "metadata": {
        "colab": {
          "base_uri": "https://localhost:8080/"
        },
        "id": "mQdNUyWmb5LV",
        "outputId": "9c71d48d-bd4c-44f4-cfc6-c15505728989"
      },
      "execution_count": 88,
      "outputs": [
        {
          "output_type": "stream",
          "name": "stdout",
          "text": [
            "['Michael', 'Jacfson']\n"
          ]
        }
      ]
    },
    {
      "cell_type": "code",
      "source": [
        "#Split the substring into list using space separator\n",
        "name = \"Michael,Jacfson\"\n",
        "split_string2 = (name.split(','))\n",
        "print(split_string2)"
      ],
      "metadata": {
        "colab": {
          "base_uri": "https://localhost:8080/"
        },
        "id": "LepsT_NdcE7D",
        "outputId": "47b956da-ce28-4dca-848b-ddcf6cec505e"
      },
      "execution_count": 89,
      "outputs": [
        {
          "output_type": "stream",
          "name": "stdout",
          "text": [
            "['Michael', 'Jacfson']\n"
          ]
        }
      ]
    }
  ]
}